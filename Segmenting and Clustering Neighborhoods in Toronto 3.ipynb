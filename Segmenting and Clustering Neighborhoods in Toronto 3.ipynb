{
 "cells": [
  {
   "cell_type": "markdown",
   "metadata": {},
   "source": [
    "# Segmenting and Clustering Neighborhoods in Toronto "
   ]
  },
  {
   "cell_type": "markdown",
   "metadata": {},
   "source": [
    "For this assignment, you will be required to explore and cluster the neighborhoods in Toronto.\n",
    "\n",
    "Start by creating a new Notebook for this assignment.\n",
    "Use the Notebook to build the code to scrape the following Wikipedia page, https://en.wikipedia.org/wiki/List_of_postal_codes_of_Canada:_M, in order to obtain the data that is in the table of postal codes and to transform the data into a pandas dataframe like the one shown below:"
   ]
  },
  {
   "cell_type": "markdown",
   "metadata": {},
   "source": [
    "3. To create the above dataframe:\n",
    "\n",
    "The dataframe will consist of three columns: PostalCode, Borough, and Neighborhood\n",
    "Only process the cells that have an assigned borough. Ignore cells with a borough that is Not assigned.\n",
    "More than one neighborhood can exist in one postal code area. For example, in the table on the Wikipedia page, you will notice that M5A is listed twice and has two neighborhoods: Harbourfront and Regent Park. These two rows will be combined into one row with the neighborhoods separated with a comma as shown in row 11 in the above table.\n",
    "If a cell has a borough but a Not assigned neighborhood, then the neighborhood will be the same as the borough. So for the 9th cell in the table on the Wikipedia page, the value of the Borough and the Neighborhood columns will be Queen's Park.\n",
    "Clean your Notebook and add Markdown cells to explain your work and any assumptions you are making.\n",
    "In the last cell of your notebook, use the .shape method to print the number of rows of your dataframe"
   ]
  },
  {
   "cell_type": "markdown",
   "metadata": {},
   "source": [
    "### Import Libraries"
   ]
  },
  {
   "cell_type": "code",
   "execution_count": 1,
   "metadata": {},
   "outputs": [],
   "source": [
    "## study notes: https://towardsdatascience.com/web-scraping-html-tables-with-python-c9baba21059\n",
    "import requests\n",
    "import lxml.html as lh\n",
    "import pandas as pd\n",
    "import numpy as np"
   ]
  },
  {
   "cell_type": "code",
   "execution_count": 2,
   "metadata": {},
   "outputs": [],
   "source": [
    "url='https://en.wikipedia.org/wiki/List_of_postal_codes_of_Canada:_M'\n",
    "\n",
    "#Create a handle, page, to handle the contents of the website\n",
    "page = requests.get(url)\n",
    "\n",
    "#Store the contents of the website under doc\n",
    "doc = lh.fromstring(page.content)\n",
    "\n",
    "#Parse data that are stored between <tr>..</tr> of HTML\n",
    "tr_elements = doc.xpath('//tr')"
   ]
  },
  {
   "cell_type": "code",
   "execution_count": 3,
   "metadata": {},
   "outputs": [
    {
     "data": {
      "text/plain": [
       "[3, 3, 3, 3, 3, 3, 3, 3, 3, 3, 3, 3]"
      ]
     },
     "execution_count": 3,
     "metadata": {},
     "output_type": "execute_result"
    }
   ],
   "source": [
    "#For sanity check, ensure that all the rows have the same width. If not, we probably got something more than just the table.\n",
    "\n",
    "#Check the length of the first 12 rows\n",
    "[len(T) for T in tr_elements[:12]]"
   ]
  },
  {
   "cell_type": "markdown",
   "metadata": {},
   "source": [
    "Means we have three column per row in the table"
   ]
  },
  {
   "cell_type": "markdown",
   "metadata": {},
   "source": [
    "### Parse Table Header"
   ]
  },
  {
   "cell_type": "code",
   "execution_count": 4,
   "metadata": {},
   "outputs": [
    {
     "name": "stdout",
     "output_type": "stream",
     "text": [
      "1:\"Postcode\"\n",
      "2:\"Borough\"\n",
      "3:\"Neighbourhood\n",
      "\"\n"
     ]
    }
   ],
   "source": [
    "tr_elements = doc.xpath('//tr')\n",
    "#Create empty list\n",
    "col=[]\n",
    "i=0\n",
    "#For each row, store each first element (header) and an empty list\n",
    "for t in tr_elements[0]:\n",
    "    i+=1\n",
    "    name=t.text_content()\n",
    "    print( '%d:\"%s\"'%(i,name))\n",
    "    col.append((name,[]))"
   ]
  },
  {
   "cell_type": "markdown",
   "metadata": {},
   "source": [
    "### Creating Pandas DataFrame\n",
    "Each header is appended to a tuple along with an empty list"
   ]
  },
  {
   "cell_type": "code",
   "execution_count": 5,
   "metadata": {},
   "outputs": [],
   "source": [
    "#Since out first row is the header, data is stored on the second row onwards\n",
    "for j in range(1,len(tr_elements)):\n",
    "    #T is our j'th row\n",
    "    T=tr_elements[j]\n",
    "    \n",
    "    #If row is not of size 3, the //tr data is not from our table \n",
    "    if len(T)!=3:\n",
    "        break\n",
    "    \n",
    "    #i is the index of our column\n",
    "    i=0\n",
    "    \n",
    "    #Iterate through each element of the row\n",
    "    for t in T.iterchildren():\n",
    "        data=t.text_content() \n",
    "        #Check if row is empty\n",
    "        if i>0:\n",
    "        #Convert any numerical value to integers\n",
    "            try:\n",
    "                data=int(data)\n",
    "            except:\n",
    "                pass\n",
    "        #Append the data to the empty list of the i'th column\n",
    "        col[i][1].append(data)\n",
    "        #Increment i for the next column\n",
    "        i+=1"
   ]
  },
  {
   "cell_type": "code",
   "execution_count": 6,
   "metadata": {},
   "outputs": [
    {
     "data": {
      "text/plain": [
       "[287, 287, 287]"
      ]
     },
     "execution_count": 6,
     "metadata": {},
     "output_type": "execute_result"
    }
   ],
   "source": [
    "# Just to be sure, let’s check the length of each column. Ideally, they should all be the same.\n",
    "\n",
    "[len(C) for (title,C) in col]"
   ]
  },
  {
   "cell_type": "markdown",
   "metadata": {},
   "source": [
    "This shows that each of the 3 columns has exactly 287 rows\n",
    "\n",
    "\n",
    "\n",
    "### Creating the pandas data fram"
   ]
  },
  {
   "cell_type": "code",
   "execution_count": 7,
   "metadata": {},
   "outputs": [],
   "source": [
    "Dict={title:column for (title,column) in col}\n",
    "df=pd.DataFrame(Dict)"
   ]
  },
  {
   "cell_type": "code",
   "execution_count": 8,
   "metadata": {},
   "outputs": [
    {
     "data": {
      "text/html": [
       "<div>\n",
       "<style scoped>\n",
       "    .dataframe tbody tr th:only-of-type {\n",
       "        vertical-align: middle;\n",
       "    }\n",
       "\n",
       "    .dataframe tbody tr th {\n",
       "        vertical-align: top;\n",
       "    }\n",
       "\n",
       "    .dataframe thead th {\n",
       "        text-align: right;\n",
       "    }\n",
       "</style>\n",
       "<table border=\"1\" class=\"dataframe\">\n",
       "  <thead>\n",
       "    <tr style=\"text-align: right;\">\n",
       "      <th></th>\n",
       "      <th>Postcode</th>\n",
       "      <th>Borough</th>\n",
       "      <th>Neighbourhood\\n</th>\n",
       "    </tr>\n",
       "  </thead>\n",
       "  <tbody>\n",
       "    <tr>\n",
       "      <td>0</td>\n",
       "      <td>M1A</td>\n",
       "      <td>Not assigned</td>\n",
       "      <td>Not assigned\\n</td>\n",
       "    </tr>\n",
       "    <tr>\n",
       "      <td>1</td>\n",
       "      <td>M2A</td>\n",
       "      <td>Not assigned</td>\n",
       "      <td>Not assigned\\n</td>\n",
       "    </tr>\n",
       "    <tr>\n",
       "      <td>2</td>\n",
       "      <td>M3A</td>\n",
       "      <td>North York</td>\n",
       "      <td>Parkwoods\\n</td>\n",
       "    </tr>\n",
       "    <tr>\n",
       "      <td>3</td>\n",
       "      <td>M4A</td>\n",
       "      <td>North York</td>\n",
       "      <td>Victoria Village\\n</td>\n",
       "    </tr>\n",
       "    <tr>\n",
       "      <td>4</td>\n",
       "      <td>M5A</td>\n",
       "      <td>Downtown Toronto</td>\n",
       "      <td>Harbourfront\\n</td>\n",
       "    </tr>\n",
       "  </tbody>\n",
       "</table>\n",
       "</div>"
      ],
      "text/plain": [
       "  Postcode           Borough     Neighbourhood\\n\n",
       "0      M1A      Not assigned      Not assigned\\n\n",
       "1      M2A      Not assigned      Not assigned\\n\n",
       "2      M3A        North York         Parkwoods\\n\n",
       "3      M4A        North York  Victoria Village\\n\n",
       "4      M5A  Downtown Toronto      Harbourfront\\n"
      ]
     },
     "execution_count": 8,
     "metadata": {},
     "output_type": "execute_result"
    }
   ],
   "source": [
    "df.head()"
   ]
  },
  {
   "cell_type": "markdown",
   "metadata": {},
   "source": [
    "### Data Cleaning and Preprocessing "
   ]
  },
  {
   "cell_type": "code",
   "execution_count": 9,
   "metadata": {},
   "outputs": [
    {
     "data": {
      "text/html": [
       "<div>\n",
       "<style scoped>\n",
       "    .dataframe tbody tr th:only-of-type {\n",
       "        vertical-align: middle;\n",
       "    }\n",
       "\n",
       "    .dataframe tbody tr th {\n",
       "        vertical-align: top;\n",
       "    }\n",
       "\n",
       "    .dataframe thead th {\n",
       "        text-align: right;\n",
       "    }\n",
       "</style>\n",
       "<table border=\"1\" class=\"dataframe\">\n",
       "  <thead>\n",
       "    <tr style=\"text-align: right;\">\n",
       "      <th></th>\n",
       "      <th>Postcode</th>\n",
       "      <th>Borough</th>\n",
       "      <th>Neighbourhood\\n</th>\n",
       "    </tr>\n",
       "  </thead>\n",
       "  <tbody>\n",
       "    <tr>\n",
       "      <td>0</td>\n",
       "      <td>M1A</td>\n",
       "      <td>Not assigned</td>\n",
       "      <td>Not assigned</td>\n",
       "    </tr>\n",
       "    <tr>\n",
       "      <td>1</td>\n",
       "      <td>M2A</td>\n",
       "      <td>Not assigned</td>\n",
       "      <td>Not assigned</td>\n",
       "    </tr>\n",
       "    <tr>\n",
       "      <td>2</td>\n",
       "      <td>M3A</td>\n",
       "      <td>North York</td>\n",
       "      <td>Parkwoods</td>\n",
       "    </tr>\n",
       "    <tr>\n",
       "      <td>3</td>\n",
       "      <td>M4A</td>\n",
       "      <td>North York</td>\n",
       "      <td>Victoria Village</td>\n",
       "    </tr>\n",
       "    <tr>\n",
       "      <td>4</td>\n",
       "      <td>M5A</td>\n",
       "      <td>Downtown Toronto</td>\n",
       "      <td>Harbourfront</td>\n",
       "    </tr>\n",
       "  </tbody>\n",
       "</table>\n",
       "</div>"
      ],
      "text/plain": [
       "  Postcode           Borough    Neighbourhood\\n\n",
       "0      M1A      Not assigned      Not assigned \n",
       "1      M2A      Not assigned      Not assigned \n",
       "2      M3A        North York         Parkwoods \n",
       "3      M4A        North York  Victoria Village \n",
       "4      M5A  Downtown Toronto      Harbourfront "
      ]
     },
     "execution_count": 9,
     "metadata": {},
     "output_type": "execute_result"
    }
   ],
   "source": [
    "# Remove end of line \\n from data\n",
    "df = df.replace('\\n',' ', regex=True)\n",
    "df.head()"
   ]
  },
  {
   "cell_type": "code",
   "execution_count": 10,
   "metadata": {},
   "outputs": [
    {
     "data": {
      "text/html": [
       "<div>\n",
       "<style scoped>\n",
       "    .dataframe tbody tr th:only-of-type {\n",
       "        vertical-align: middle;\n",
       "    }\n",
       "\n",
       "    .dataframe tbody tr th {\n",
       "        vertical-align: top;\n",
       "    }\n",
       "\n",
       "    .dataframe thead th {\n",
       "        text-align: right;\n",
       "    }\n",
       "</style>\n",
       "<table border=\"1\" class=\"dataframe\">\n",
       "  <thead>\n",
       "    <tr style=\"text-align: right;\">\n",
       "      <th></th>\n",
       "      <th>Postcode</th>\n",
       "      <th>Borough</th>\n",
       "      <th>Neighbourhood\\n</th>\n",
       "    </tr>\n",
       "  </thead>\n",
       "  <tbody>\n",
       "    <tr>\n",
       "      <td>0</td>\n",
       "      <td>M3A</td>\n",
       "      <td>North York</td>\n",
       "      <td>Parkwoods</td>\n",
       "    </tr>\n",
       "    <tr>\n",
       "      <td>1</td>\n",
       "      <td>M4A</td>\n",
       "      <td>North York</td>\n",
       "      <td>Victoria Village</td>\n",
       "    </tr>\n",
       "    <tr>\n",
       "      <td>2</td>\n",
       "      <td>M5A</td>\n",
       "      <td>Downtown Toronto</td>\n",
       "      <td>Harbourfront</td>\n",
       "    </tr>\n",
       "    <tr>\n",
       "      <td>3</td>\n",
       "      <td>M6A</td>\n",
       "      <td>North York</td>\n",
       "      <td>Lawrence Heights</td>\n",
       "    </tr>\n",
       "    <tr>\n",
       "      <td>4</td>\n",
       "      <td>M6A</td>\n",
       "      <td>North York</td>\n",
       "      <td>Lawrence Manor</td>\n",
       "    </tr>\n",
       "    <tr>\n",
       "      <td>5</td>\n",
       "      <td>M7A</td>\n",
       "      <td>Queen's Park</td>\n",
       "      <td>Not assigned</td>\n",
       "    </tr>\n",
       "    <tr>\n",
       "      <td>6</td>\n",
       "      <td>M9A</td>\n",
       "      <td>Queen's Park</td>\n",
       "      <td>Queen's Park</td>\n",
       "    </tr>\n",
       "    <tr>\n",
       "      <td>7</td>\n",
       "      <td>M1B</td>\n",
       "      <td>Scarborough</td>\n",
       "      <td>Rouge</td>\n",
       "    </tr>\n",
       "    <tr>\n",
       "      <td>8</td>\n",
       "      <td>M1B</td>\n",
       "      <td>Scarborough</td>\n",
       "      <td>Malvern</td>\n",
       "    </tr>\n",
       "    <tr>\n",
       "      <td>9</td>\n",
       "      <td>M3B</td>\n",
       "      <td>North York</td>\n",
       "      <td>Don Mills North</td>\n",
       "    </tr>\n",
       "  </tbody>\n",
       "</table>\n",
       "</div>"
      ],
      "text/plain": [
       "  Postcode           Borough    Neighbourhood\\n\n",
       "0      M3A        North York         Parkwoods \n",
       "1      M4A        North York  Victoria Village \n",
       "2      M5A  Downtown Toronto      Harbourfront \n",
       "3      M6A        North York  Lawrence Heights \n",
       "4      M6A        North York    Lawrence Manor \n",
       "5      M7A      Queen's Park      Not assigned \n",
       "6      M9A      Queen's Park      Queen's Park \n",
       "7      M1B       Scarborough             Rouge \n",
       "8      M1B       Scarborough           Malvern \n",
       "9      M3B        North York   Don Mills North "
      ]
     },
     "execution_count": 10,
     "metadata": {},
     "output_type": "execute_result"
    }
   ],
   "source": [
    "# Remove Missing (not assigned) data\n",
    "df.drop(df.index[df['Borough'] == 'Not assigned'], inplace = True)\n",
    "\n",
    "# Reset the index and dropping the previous index\n",
    "df = df.reset_index(drop=True)\n",
    "\n",
    "df.head(10)"
   ]
  },
  {
   "cell_type": "code",
   "execution_count": 11,
   "metadata": {},
   "outputs": [
    {
     "data": {
      "text/html": [
       "<div>\n",
       "<style scoped>\n",
       "    .dataframe tbody tr th:only-of-type {\n",
       "        vertical-align: middle;\n",
       "    }\n",
       "\n",
       "    .dataframe tbody tr th {\n",
       "        vertical-align: top;\n",
       "    }\n",
       "\n",
       "    .dataframe thead th {\n",
       "        text-align: right;\n",
       "    }\n",
       "</style>\n",
       "<table border=\"1\" class=\"dataframe\">\n",
       "  <thead>\n",
       "    <tr style=\"text-align: right;\">\n",
       "      <th></th>\n",
       "      <th>Postcode</th>\n",
       "      <th>Borough</th>\n",
       "      <th>Neighbourhood</th>\n",
       "    </tr>\n",
       "  </thead>\n",
       "  <tbody>\n",
       "    <tr>\n",
       "      <td>0</td>\n",
       "      <td>M3A</td>\n",
       "      <td>North York</td>\n",
       "      <td>Parkwoods</td>\n",
       "    </tr>\n",
       "    <tr>\n",
       "      <td>1</td>\n",
       "      <td>M4A</td>\n",
       "      <td>North York</td>\n",
       "      <td>Victoria Village</td>\n",
       "    </tr>\n",
       "    <tr>\n",
       "      <td>2</td>\n",
       "      <td>M5A</td>\n",
       "      <td>Downtown Toronto</td>\n",
       "      <td>Harbourfront</td>\n",
       "    </tr>\n",
       "    <tr>\n",
       "      <td>3</td>\n",
       "      <td>M6A</td>\n",
       "      <td>North York</td>\n",
       "      <td>Lawrence Heights</td>\n",
       "    </tr>\n",
       "    <tr>\n",
       "      <td>4</td>\n",
       "      <td>M6A</td>\n",
       "      <td>North York</td>\n",
       "      <td>Lawrence Manor</td>\n",
       "    </tr>\n",
       "  </tbody>\n",
       "</table>\n",
       "</div>"
      ],
      "text/plain": [
       "  Postcode           Borough      Neighbourhood\n",
       "0      M3A        North York         Parkwoods \n",
       "1      M4A        North York  Victoria Village \n",
       "2      M5A  Downtown Toronto      Harbourfront \n",
       "3      M6A        North York  Lawrence Heights \n",
       "4      M6A        North York    Lawrence Manor "
      ]
     },
     "execution_count": 11,
     "metadata": {},
     "output_type": "execute_result"
    }
   ],
   "source": [
    "df.rename(columns={'Neighbourhood\\n':'Neighbourhood'}, inplace=True)\n",
    "df.head()"
   ]
  },
  {
   "cell_type": "code",
   "execution_count": 12,
   "metadata": {},
   "outputs": [
    {
     "data": {
      "text/html": [
       "<div>\n",
       "<style scoped>\n",
       "    .dataframe tbody tr th:only-of-type {\n",
       "        vertical-align: middle;\n",
       "    }\n",
       "\n",
       "    .dataframe tbody tr th {\n",
       "        vertical-align: top;\n",
       "    }\n",
       "\n",
       "    .dataframe thead th {\n",
       "        text-align: right;\n",
       "    }\n",
       "</style>\n",
       "<table border=\"1\" class=\"dataframe\">\n",
       "  <thead>\n",
       "    <tr style=\"text-align: right;\">\n",
       "      <th></th>\n",
       "      <th>Postcode</th>\n",
       "      <th>Borough</th>\n",
       "      <th>Neighbourhood</th>\n",
       "    </tr>\n",
       "  </thead>\n",
       "  <tbody>\n",
       "    <tr>\n",
       "      <td>0</td>\n",
       "      <td>M1B</td>\n",
       "      <td>Scarborough</td>\n",
       "      <td>Rouge ,Malvern</td>\n",
       "    </tr>\n",
       "    <tr>\n",
       "      <td>1</td>\n",
       "      <td>M1C</td>\n",
       "      <td>Scarborough</td>\n",
       "      <td>Highland Creek ,Rouge Hill ,Port Union</td>\n",
       "    </tr>\n",
       "    <tr>\n",
       "      <td>2</td>\n",
       "      <td>M1E</td>\n",
       "      <td>Scarborough</td>\n",
       "      <td>Guildwood ,Morningside ,West Hill</td>\n",
       "    </tr>\n",
       "    <tr>\n",
       "      <td>3</td>\n",
       "      <td>M1G</td>\n",
       "      <td>Scarborough</td>\n",
       "      <td>Woburn</td>\n",
       "    </tr>\n",
       "    <tr>\n",
       "      <td>4</td>\n",
       "      <td>M1H</td>\n",
       "      <td>Scarborough</td>\n",
       "      <td>Cedarbrae</td>\n",
       "    </tr>\n",
       "  </tbody>\n",
       "</table>\n",
       "</div>"
      ],
      "text/plain": [
       "  Postcode      Borough                            Neighbourhood\n",
       "0      M1B  Scarborough                          Rouge ,Malvern \n",
       "1      M1C  Scarborough  Highland Creek ,Rouge Hill ,Port Union \n",
       "2      M1E  Scarborough       Guildwood ,Morningside ,West Hill \n",
       "3      M1G  Scarborough                                  Woburn \n",
       "4      M1H  Scarborough                               Cedarbrae "
      ]
     },
     "execution_count": 12,
     "metadata": {},
     "output_type": "execute_result"
    }
   ],
   "source": [
    "#Combining Neighbourhoods based on similar Postcode and Borough\n",
    "df = df.groupby(['Postcode', 'Borough'])['Neighbourhood'].apply(','.join).reset_index()\n",
    "df.columns = ['Postcode','Borough','Neighbourhood']\n",
    "df.head()"
   ]
  },
  {
   "cell_type": "code",
   "execution_count": 13,
   "metadata": {},
   "outputs": [
    {
     "data": {
      "text/html": [
       "<div>\n",
       "<style scoped>\n",
       "    .dataframe tbody tr th:only-of-type {\n",
       "        vertical-align: middle;\n",
       "    }\n",
       "\n",
       "    .dataframe tbody tr th {\n",
       "        vertical-align: top;\n",
       "    }\n",
       "\n",
       "    .dataframe thead th {\n",
       "        text-align: right;\n",
       "    }\n",
       "</style>\n",
       "<table border=\"1\" class=\"dataframe\">\n",
       "  <thead>\n",
       "    <tr style=\"text-align: right;\">\n",
       "      <th></th>\n",
       "      <th>Postcode</th>\n",
       "      <th>Borough</th>\n",
       "      <th>Neighbourhood</th>\n",
       "    </tr>\n",
       "  </thead>\n",
       "  <tbody>\n",
       "    <tr>\n",
       "      <td>0</td>\n",
       "      <td>M1B</td>\n",
       "      <td>Scarborough</td>\n",
       "      <td>Rouge ,Malvern</td>\n",
       "    </tr>\n",
       "    <tr>\n",
       "      <td>1</td>\n",
       "      <td>M1C</td>\n",
       "      <td>Scarborough</td>\n",
       "      <td>Highland Creek ,Rouge Hill ,Port Union</td>\n",
       "    </tr>\n",
       "    <tr>\n",
       "      <td>2</td>\n",
       "      <td>M1E</td>\n",
       "      <td>Scarborough</td>\n",
       "      <td>Guildwood ,Morningside ,West Hill</td>\n",
       "    </tr>\n",
       "    <tr>\n",
       "      <td>3</td>\n",
       "      <td>M1G</td>\n",
       "      <td>Scarborough</td>\n",
       "      <td>Woburn</td>\n",
       "    </tr>\n",
       "    <tr>\n",
       "      <td>4</td>\n",
       "      <td>M1H</td>\n",
       "      <td>Scarborough</td>\n",
       "      <td>Cedarbrae</td>\n",
       "    </tr>\n",
       "  </tbody>\n",
       "</table>\n",
       "</div>"
      ],
      "text/plain": [
       "  Postcode      Borough                           Neighbourhood\n",
       "0      M1B  Scarborough                          Rouge ,Malvern\n",
       "1      M1C  Scarborough  Highland Creek ,Rouge Hill ,Port Union\n",
       "2      M1E  Scarborough       Guildwood ,Morningside ,West Hill\n",
       "3      M1G  Scarborough                                  Woburn\n",
       "4      M1H  Scarborough                               Cedarbrae"
      ]
     },
     "execution_count": 13,
     "metadata": {},
     "output_type": "execute_result"
    }
   ],
   "source": [
    "df['Neighbourhood'] = df['Neighbourhood'].str.strip()\n",
    "df.head()"
   ]
  },
  {
   "cell_type": "code",
   "execution_count": 14,
   "metadata": {},
   "outputs": [],
   "source": [
    "#Assigning Borough values to the Neignbourhood where vlaue is \"Not assigned\"\n",
    "\n",
    "df.loc[df['Neighbourhood'] == 'Not assigned', 'Neighbourhood'] = df['Borough']"
   ]
  },
  {
   "cell_type": "code",
   "execution_count": 15,
   "metadata": {},
   "outputs": [
    {
     "data": {
      "text/html": [
       "<div>\n",
       "<style scoped>\n",
       "    .dataframe tbody tr th:only-of-type {\n",
       "        vertical-align: middle;\n",
       "    }\n",
       "\n",
       "    .dataframe tbody tr th {\n",
       "        vertical-align: top;\n",
       "    }\n",
       "\n",
       "    .dataframe thead th {\n",
       "        text-align: right;\n",
       "    }\n",
       "</style>\n",
       "<table border=\"1\" class=\"dataframe\">\n",
       "  <thead>\n",
       "    <tr style=\"text-align: right;\">\n",
       "      <th></th>\n",
       "      <th>Postcode</th>\n",
       "      <th>Borough</th>\n",
       "      <th>Neighbourhood</th>\n",
       "    </tr>\n",
       "  </thead>\n",
       "  <tbody>\n",
       "    <tr>\n",
       "      <td>85</td>\n",
       "      <td>M7A</td>\n",
       "      <td>Queen's Park</td>\n",
       "      <td>Queen's Park</td>\n",
       "    </tr>\n",
       "    <tr>\n",
       "      <td>93</td>\n",
       "      <td>M9A</td>\n",
       "      <td>Queen's Park</td>\n",
       "      <td>Queen's Park</td>\n",
       "    </tr>\n",
       "  </tbody>\n",
       "</table>\n",
       "</div>"
      ],
      "text/plain": [
       "   Postcode       Borough Neighbourhood\n",
       "85      M7A  Queen's Park  Queen's Park\n",
       "93      M9A  Queen's Park  Queen's Park"
      ]
     },
     "execution_count": 15,
     "metadata": {},
     "output_type": "execute_result"
    }
   ],
   "source": [
    "# Verifying for Queen's Park changed \n",
    "df[df['Borough'] == 'Queen\\'s Park']"
   ]
  },
  {
   "cell_type": "code",
   "execution_count": 16,
   "metadata": {},
   "outputs": [
    {
     "data": {
      "text/plain": [
       "(103, 3)"
      ]
     },
     "execution_count": 16,
     "metadata": {},
     "output_type": "execute_result"
    }
   ],
   "source": [
    "df.shape"
   ]
  },
  {
   "cell_type": "markdown",
   "metadata": {},
   "source": [
    "Now that you have built a dataframe of the postal code of each neighborhood along with the borough name and neighborhood name, in order to utilize the Foursquare location data, we need to get the latitude and the longitude coordinates of each neighborhood.\n",
    "\n",
    "In an older version of this course, we were leveraging the Google Maps Geocoding API to get the latitude and the longitude coordinates of each neighborhood. However, recently Google started charging for their API: http://geoawesomeness.com/developers-up-in-arms-over-google-maps-api-insane-price-hike/, so we will use the Geocoder Python package instead: https://geocoder.readthedocs.io/index.html.\n",
    "\n",
    "The problem with this Package is you have to be persistent sometimes in order to get the geographical coordinates of a given postal code. So you can make a call to get the latitude and longitude coordinates of a given postal code and the result would be None, and then make the call again and you would get the coordinates. So, in order to make sure that you get the coordinates for all of our neighborhoods, you can run a while loop for each postal code. Taking postal code M5G as an example, your code would look something like this:\n",
    "\n",
    "\u0001\u0001\n",
    "Given that this package can be very unreliable, in case you are not able to get the geographical coordinates of the neighborhoods using the Geocoder package, here is a link to a csv file that has the geographical coordinates of each postal code: http://cocl.us/Geospatial_data\n",
    "\n",
    "Use the Geocoder package or the csv file to create the following dataframe:\n",
    "\n"
   ]
  },
  {
   "cell_type": "markdown",
   "metadata": {},
   "source": [
    "## Using CSV file"
   ]
  },
  {
   "cell_type": "code",
   "execution_count": 17,
   "metadata": {},
   "outputs": [
    {
     "data": {
      "text/html": [
       "<div>\n",
       "<style scoped>\n",
       "    .dataframe tbody tr th:only-of-type {\n",
       "        vertical-align: middle;\n",
       "    }\n",
       "\n",
       "    .dataframe tbody tr th {\n",
       "        vertical-align: top;\n",
       "    }\n",
       "\n",
       "    .dataframe thead th {\n",
       "        text-align: right;\n",
       "    }\n",
       "</style>\n",
       "<table border=\"1\" class=\"dataframe\">\n",
       "  <thead>\n",
       "    <tr style=\"text-align: right;\">\n",
       "      <th></th>\n",
       "      <th>Postal Code</th>\n",
       "      <th>Latitude</th>\n",
       "      <th>Longitude</th>\n",
       "    </tr>\n",
       "  </thead>\n",
       "  <tbody>\n",
       "    <tr>\n",
       "      <td>0</td>\n",
       "      <td>M1B</td>\n",
       "      <td>43.806686</td>\n",
       "      <td>-79.194353</td>\n",
       "    </tr>\n",
       "    <tr>\n",
       "      <td>1</td>\n",
       "      <td>M1C</td>\n",
       "      <td>43.784535</td>\n",
       "      <td>-79.160497</td>\n",
       "    </tr>\n",
       "    <tr>\n",
       "      <td>2</td>\n",
       "      <td>M1E</td>\n",
       "      <td>43.763573</td>\n",
       "      <td>-79.188711</td>\n",
       "    </tr>\n",
       "    <tr>\n",
       "      <td>3</td>\n",
       "      <td>M1G</td>\n",
       "      <td>43.770992</td>\n",
       "      <td>-79.216917</td>\n",
       "    </tr>\n",
       "    <tr>\n",
       "      <td>4</td>\n",
       "      <td>M1H</td>\n",
       "      <td>43.773136</td>\n",
       "      <td>-79.239476</td>\n",
       "    </tr>\n",
       "  </tbody>\n",
       "</table>\n",
       "</div>"
      ],
      "text/plain": [
       "  Postal Code   Latitude  Longitude\n",
       "0         M1B  43.806686 -79.194353\n",
       "1         M1C  43.784535 -79.160497\n",
       "2         M1E  43.763573 -79.188711\n",
       "3         M1G  43.770992 -79.216917\n",
       "4         M1H  43.773136 -79.239476"
      ]
     },
     "execution_count": 17,
     "metadata": {},
     "output_type": "execute_result"
    }
   ],
   "source": [
    "url2 = \"http://cocl.us/Geospatial_data\"\n",
    "df2 = pd.read_csv(url2)\n",
    "\n",
    "df2.head()"
   ]
  },
  {
   "cell_type": "code",
   "execution_count": 18,
   "metadata": {},
   "outputs": [
    {
     "data": {
      "text/plain": [
       "(103, 3)"
      ]
     },
     "execution_count": 18,
     "metadata": {},
     "output_type": "execute_result"
    }
   ],
   "source": [
    "#checking df2 shape\n",
    "\n",
    "df2.shape"
   ]
  },
  {
   "cell_type": "markdown",
   "metadata": {},
   "source": [
    "df and df2 have the same shape\n",
    "\n",
    "### Merging both dataframes"
   ]
  },
  {
   "cell_type": "code",
   "execution_count": 19,
   "metadata": {},
   "outputs": [
    {
     "data": {
      "text/html": [
       "<div>\n",
       "<style scoped>\n",
       "    .dataframe tbody tr th:only-of-type {\n",
       "        vertical-align: middle;\n",
       "    }\n",
       "\n",
       "    .dataframe tbody tr th {\n",
       "        vertical-align: top;\n",
       "    }\n",
       "\n",
       "    .dataframe thead th {\n",
       "        text-align: right;\n",
       "    }\n",
       "</style>\n",
       "<table border=\"1\" class=\"dataframe\">\n",
       "  <thead>\n",
       "    <tr style=\"text-align: right;\">\n",
       "      <th></th>\n",
       "      <th>Postcode</th>\n",
       "      <th>Latitude</th>\n",
       "      <th>Longitude</th>\n",
       "    </tr>\n",
       "  </thead>\n",
       "  <tbody>\n",
       "    <tr>\n",
       "      <td>0</td>\n",
       "      <td>M1B</td>\n",
       "      <td>43.806686</td>\n",
       "      <td>-79.194353</td>\n",
       "    </tr>\n",
       "    <tr>\n",
       "      <td>1</td>\n",
       "      <td>M1C</td>\n",
       "      <td>43.784535</td>\n",
       "      <td>-79.160497</td>\n",
       "    </tr>\n",
       "    <tr>\n",
       "      <td>2</td>\n",
       "      <td>M1E</td>\n",
       "      <td>43.763573</td>\n",
       "      <td>-79.188711</td>\n",
       "    </tr>\n",
       "    <tr>\n",
       "      <td>3</td>\n",
       "      <td>M1G</td>\n",
       "      <td>43.770992</td>\n",
       "      <td>-79.216917</td>\n",
       "    </tr>\n",
       "    <tr>\n",
       "      <td>4</td>\n",
       "      <td>M1H</td>\n",
       "      <td>43.773136</td>\n",
       "      <td>-79.239476</td>\n",
       "    </tr>\n",
       "  </tbody>\n",
       "</table>\n",
       "</div>"
      ],
      "text/plain": [
       "  Postcode   Latitude  Longitude\n",
       "0      M1B  43.806686 -79.194353\n",
       "1      M1C  43.784535 -79.160497\n",
       "2      M1E  43.763573 -79.188711\n",
       "3      M1G  43.770992 -79.216917\n",
       "4      M1H  43.773136 -79.239476"
      ]
     },
     "execution_count": 19,
     "metadata": {},
     "output_type": "execute_result"
    }
   ],
   "source": [
    "# Rename Postal Code to Postcode\n",
    "df2.rename(columns={'Postal Code':'Postcode'}, inplace=True)\n",
    "df2.head()"
   ]
  },
  {
   "cell_type": "code",
   "execution_count": 20,
   "metadata": {},
   "outputs": [
    {
     "data": {
      "text/html": [
       "<div>\n",
       "<style scoped>\n",
       "    .dataframe tbody tr th:only-of-type {\n",
       "        vertical-align: middle;\n",
       "    }\n",
       "\n",
       "    .dataframe tbody tr th {\n",
       "        vertical-align: top;\n",
       "    }\n",
       "\n",
       "    .dataframe thead th {\n",
       "        text-align: right;\n",
       "    }\n",
       "</style>\n",
       "<table border=\"1\" class=\"dataframe\">\n",
       "  <thead>\n",
       "    <tr style=\"text-align: right;\">\n",
       "      <th></th>\n",
       "      <th>Postcode</th>\n",
       "      <th>Borough</th>\n",
       "      <th>Neighbourhood</th>\n",
       "      <th>Latitude</th>\n",
       "      <th>Longitude</th>\n",
       "    </tr>\n",
       "  </thead>\n",
       "  <tbody>\n",
       "    <tr>\n",
       "      <td>0</td>\n",
       "      <td>M1B</td>\n",
       "      <td>Scarborough</td>\n",
       "      <td>Rouge ,Malvern</td>\n",
       "      <td>43.806686</td>\n",
       "      <td>-79.194353</td>\n",
       "    </tr>\n",
       "    <tr>\n",
       "      <td>1</td>\n",
       "      <td>M1C</td>\n",
       "      <td>Scarborough</td>\n",
       "      <td>Highland Creek ,Rouge Hill ,Port Union</td>\n",
       "      <td>43.784535</td>\n",
       "      <td>-79.160497</td>\n",
       "    </tr>\n",
       "    <tr>\n",
       "      <td>2</td>\n",
       "      <td>M1E</td>\n",
       "      <td>Scarborough</td>\n",
       "      <td>Guildwood ,Morningside ,West Hill</td>\n",
       "      <td>43.763573</td>\n",
       "      <td>-79.188711</td>\n",
       "    </tr>\n",
       "    <tr>\n",
       "      <td>3</td>\n",
       "      <td>M1G</td>\n",
       "      <td>Scarborough</td>\n",
       "      <td>Woburn</td>\n",
       "      <td>43.770992</td>\n",
       "      <td>-79.216917</td>\n",
       "    </tr>\n",
       "    <tr>\n",
       "      <td>4</td>\n",
       "      <td>M1H</td>\n",
       "      <td>Scarborough</td>\n",
       "      <td>Cedarbrae</td>\n",
       "      <td>43.773136</td>\n",
       "      <td>-79.239476</td>\n",
       "    </tr>\n",
       "  </tbody>\n",
       "</table>\n",
       "</div>"
      ],
      "text/plain": [
       "  Postcode      Borough                           Neighbourhood   Latitude  \\\n",
       "0      M1B  Scarborough                          Rouge ,Malvern  43.806686   \n",
       "1      M1C  Scarborough  Highland Creek ,Rouge Hill ,Port Union  43.784535   \n",
       "2      M1E  Scarborough       Guildwood ,Morningside ,West Hill  43.763573   \n",
       "3      M1G  Scarborough                                  Woburn  43.770992   \n",
       "4      M1H  Scarborough                               Cedarbrae  43.773136   \n",
       "\n",
       "   Longitude  \n",
       "0 -79.194353  \n",
       "1 -79.160497  \n",
       "2 -79.188711  \n",
       "3 -79.216917  \n",
       "4 -79.239476  "
      ]
     },
     "execution_count": 20,
     "metadata": {},
     "output_type": "execute_result"
    }
   ],
   "source": [
    "# Merging \n",
    "df_merge = pd.merge(df, df2, on='Postcode')\n",
    "df_merge.head()"
   ]
  },
  {
   "cell_type": "markdown",
   "metadata": {},
   "source": [
    "Explore and cluster the neighborhoods in Toronto. You can decide to work with only boroughs that contain the word Toronto and then replicate the same analysis we did to the New York City data. It is up to you.\n",
    "\n",
    "Just make sure:\n",
    "\n",
    "to add enough Markdown cells to explain what you decided to do and to report any observations you make.\n",
    "to generate maps to visualize your neighborhoods and how they cluster together"
   ]
  },
  {
   "cell_type": "code",
   "execution_count": 21,
   "metadata": {},
   "outputs": [
    {
     "name": "stdout",
     "output_type": "stream",
     "text": [
      "Libraries imported.\n"
     ]
    }
   ],
   "source": [
    "#!pip install geopy\n",
    "#!pip install folium\n",
    "import numpy as np # library to handle data in a vectorized manner\n",
    "\n",
    "import pandas as pd # library for data analsysis\n",
    "pd.set_option('display.max_columns', None)\n",
    "pd.set_option('display.max_rows', None)\n",
    "\n",
    "import json # library to handle JSON files\n",
    "\n",
    "#!conda install -c conda-forge geopy --yes # uncomment this line if you haven't completed the Foursquare API lab\n",
    "from geopy.geocoders import Nominatim # convert an address into latitude and longitude values\n",
    "\n",
    "import requests # library to handle requests\n",
    "from pandas.io.json import json_normalize # tranform JSON file into a pandas dataframe\n",
    "\n",
    "# Matplotlib and associated plotting modules\n",
    "import matplotlib.cm as cm\n",
    "import matplotlib.colors as colors\n",
    "\n",
    "# import k-means from clustering stage\n",
    "from sklearn.cluster import KMeans\n",
    "\n",
    "#!conda install -c conda-forge folium=0.5.0 --yes # uncomment this line if you haven't completed the Foursquare API lab\n",
    "import folium # map rendering library\n",
    "\n",
    "print('Libraries imported.')"
   ]
  },
  {
   "cell_type": "code",
   "execution_count": 22,
   "metadata": {},
   "outputs": [
    {
     "data": {
      "text/html": [
       "<div>\n",
       "<style scoped>\n",
       "    .dataframe tbody tr th:only-of-type {\n",
       "        vertical-align: middle;\n",
       "    }\n",
       "\n",
       "    .dataframe tbody tr th {\n",
       "        vertical-align: top;\n",
       "    }\n",
       "\n",
       "    .dataframe thead th {\n",
       "        text-align: right;\n",
       "    }\n",
       "</style>\n",
       "<table border=\"1\" class=\"dataframe\">\n",
       "  <thead>\n",
       "    <tr style=\"text-align: right;\">\n",
       "      <th></th>\n",
       "      <th>Postcode</th>\n",
       "      <th>Borough</th>\n",
       "      <th>Neighbourhood</th>\n",
       "      <th>Latitude</th>\n",
       "      <th>Longitude</th>\n",
       "    </tr>\n",
       "  </thead>\n",
       "  <tbody>\n",
       "    <tr>\n",
       "      <td>0</td>\n",
       "      <td>M1B</td>\n",
       "      <td>Scarborough</td>\n",
       "      <td>Rouge ,Malvern</td>\n",
       "      <td>43.806686</td>\n",
       "      <td>-79.194353</td>\n",
       "    </tr>\n",
       "    <tr>\n",
       "      <td>1</td>\n",
       "      <td>M1C</td>\n",
       "      <td>Scarborough</td>\n",
       "      <td>Highland Creek ,Rouge Hill ,Port Union</td>\n",
       "      <td>43.784535</td>\n",
       "      <td>-79.160497</td>\n",
       "    </tr>\n",
       "    <tr>\n",
       "      <td>2</td>\n",
       "      <td>M1E</td>\n",
       "      <td>Scarborough</td>\n",
       "      <td>Guildwood ,Morningside ,West Hill</td>\n",
       "      <td>43.763573</td>\n",
       "      <td>-79.188711</td>\n",
       "    </tr>\n",
       "    <tr>\n",
       "      <td>3</td>\n",
       "      <td>M1G</td>\n",
       "      <td>Scarborough</td>\n",
       "      <td>Woburn</td>\n",
       "      <td>43.770992</td>\n",
       "      <td>-79.216917</td>\n",
       "    </tr>\n",
       "    <tr>\n",
       "      <td>4</td>\n",
       "      <td>M1H</td>\n",
       "      <td>Scarborough</td>\n",
       "      <td>Cedarbrae</td>\n",
       "      <td>43.773136</td>\n",
       "      <td>-79.239476</td>\n",
       "    </tr>\n",
       "  </tbody>\n",
       "</table>\n",
       "</div>"
      ],
      "text/plain": [
       "  Postcode      Borough                           Neighbourhood   Latitude  \\\n",
       "0      M1B  Scarborough                          Rouge ,Malvern  43.806686   \n",
       "1      M1C  Scarborough  Highland Creek ,Rouge Hill ,Port Union  43.784535   \n",
       "2      M1E  Scarborough       Guildwood ,Morningside ,West Hill  43.763573   \n",
       "3      M1G  Scarborough                                  Woburn  43.770992   \n",
       "4      M1H  Scarborough                               Cedarbrae  43.773136   \n",
       "\n",
       "   Longitude  \n",
       "0 -79.194353  \n",
       "1 -79.160497  \n",
       "2 -79.188711  \n",
       "3 -79.216917  \n",
       "4 -79.239476  "
      ]
     },
     "execution_count": 22,
     "metadata": {},
     "output_type": "execute_result"
    }
   ],
   "source": [
    "neighborhoods = df_merge\n",
    "neighborhoods.head()"
   ]
  },
  {
   "cell_type": "code",
   "execution_count": 23,
   "metadata": {},
   "outputs": [
    {
     "name": "stdout",
     "output_type": "stream",
     "text": [
      "The dataframe has 11 boroughs and 103 neighborhoods.\n"
     ]
    }
   ],
   "source": [
    "#check number of Boroughs and neighborhoods\n",
    "\n",
    "print('The dataframe has {} boroughs and {} neighborhoods.'.format(\n",
    "        len(neighborhoods['Borough'].unique()),\n",
    "        neighborhoods.shape[0]\n",
    "    )\n",
    ")"
   ]
  },
  {
   "cell_type": "markdown",
   "metadata": {},
   "source": [
    "### Use geopy library to get the latitude and longitude values of Toronto, Canada"
   ]
  },
  {
   "cell_type": "code",
   "execution_count": 24,
   "metadata": {},
   "outputs": [
    {
     "name": "stdout",
     "output_type": "stream",
     "text": [
      "The geograpical coordinate of Toronto are 43.653963, -79.387207.\n"
     ]
    }
   ],
   "source": [
    "address = 'Toronto, Canada'\n",
    "\n",
    "geolocator = Nominatim(user_agent=\"can_explorer\")\n",
    "location = geolocator.geocode(address)\n",
    "latitude = location.latitude\n",
    "longitude = location.longitude\n",
    "print('The geograpical coordinate of Toronto are {}, {}.'.format(latitude, longitude))"
   ]
  },
  {
   "cell_type": "code",
   "execution_count": 25,
   "metadata": {},
   "outputs": [
    {
     "data": {
      "text/html": [
       "<div style=\"width:100%;\"><div style=\"position:relative;width:100%;height:0;padding-bottom:60%;\"><iframe src=\"data:text/html;charset=utf-8;base64,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\" style=\"position:absolute;width:100%;height:100%;left:0;top:0;border:none !important;\" allowfullscreen webkitallowfullscreen mozallowfullscreen></iframe></div></div>"
      ],
      "text/plain": [
       "<folium.folium.Map at 0x1a20e5a710>"
      ]
     },
     "execution_count": 25,
     "metadata": {},
     "output_type": "execute_result"
    }
   ],
   "source": [
    "# create map of Toronto using latitude and longitude values\n",
    "map_toronto = folium.Map(location=[latitude, longitude], zoom_start=10)\n",
    "\n",
    "# add markers to map\n",
    "for lat, lng, borough, neighborhood in zip(neighborhoods['Latitude'], neighborhoods['Longitude'], neighborhoods['Borough'], neighborhoods['Neighbourhood']):\n",
    "    label = '{}, {}'.format(neighborhood, borough)\n",
    "    label = folium.Popup(label, parse_html=True)\n",
    "    folium.CircleMarker(\n",
    "        [lat, lng],\n",
    "        radius=5,\n",
    "        popup=label,\n",
    "        color='blue',\n",
    "        fill=True,\n",
    "        fill_color='#3186cc',\n",
    "        fill_opacity=0.7,\n",
    "        parse_html=False).add_to(map_toronto)  \n",
    "    \n",
    "map_toronto"
   ]
  },
  {
   "cell_type": "markdown",
   "metadata": {},
   "source": [
    "### Using the Foursquare API to explore the neighborhoods"
   ]
  },
  {
   "cell_type": "code",
   "execution_count": 26,
   "metadata": {},
   "outputs": [
    {
     "name": "stdout",
     "output_type": "stream",
     "text": [
      "Your credentails:\n",
      "CLIENT_ID: WKTREG4RATXEZ51ESQVVGYKYULXNEFPPTD445WJONK0VTGF1\n",
      "CLIENT_SECRET:Y32QKVH25C5WUO4RME1MEK0ITO32QZK0NZJWZFMQPSMWN5AT\n"
     ]
    }
   ],
   "source": [
    "CLIENT_ID = 'WKTREG4RATXEZ51ESQVVGYKYULXNEFPPTD445WJONK0VTGF1' # your Foursquare ID\n",
    "CLIENT_SECRET = 'Y32QKVH25C5WUO4RME1MEK0ITO32QZK0NZJWZFMQPSMWN5AT' # your Foursquare Secret\n",
    "VERSION = '20180604'\n",
    "LIMIT = 30\n",
    "print('Your credentails:')\n",
    "print('CLIENT_ID: ' + CLIENT_ID)\n",
    "print('CLIENT_SECRET:' + CLIENT_SECRET)"
   ]
  },
  {
   "cell_type": "code",
   "execution_count": 28,
   "metadata": {},
   "outputs": [],
   "source": [
    "\n",
    "#Let's create a function to repeat the same process to all the neighborhoods in Toronto"
   ]
  },
  {
   "cell_type": "code",
   "execution_count": 29,
   "metadata": {},
   "outputs": [],
   "source": [
    "def torontoVenues(names, latitudes, longitudes, radius=800):\n",
    "    \n",
    "    venues = []\n",
    "    for name, lat, lng in zip(names, latitudes, longitudes):\n",
    "        print(name)\n",
    "            \n",
    "        # create the API request URL\n",
    "        url = 'https://api.foursquare.com/v2/venues/explore?&client_id={}&client_secret={}&v={}&ll={},{}&radius={}&limit={}'.format(\n",
    "            CLIENT_ID, \n",
    "            CLIENT_SECRET, \n",
    "            VERSION, \n",
    "            lat, \n",
    "            lng, \n",
    "            radius, \n",
    "            LIMIT)\n",
    "            \n",
    "        # make the GET request\n",
    "        results = requests.get(url).json()[\"response\"]['groups'][0]['items']\n",
    "        \n",
    "        # return only relevant information for each nearby venue\n",
    "        venues.append([(\n",
    "            name, \n",
    "            lat, \n",
    "            lng, \n",
    "            v['venue']['name'], \n",
    "            v['venue']['location']['lat'], \n",
    "            v['venue']['location']['lng'],  \n",
    "            v['venue']['categories'][0]['name']) for v in results])\n",
    "\n",
    "    nearby_venues = pd.DataFrame([item for venue in venues for item in venue])\n",
    "    nearby_venues.columns = ['Neighborhood', \n",
    "                  'Neighborhood Latitude', \n",
    "                  'Neighborhood Longitude', \n",
    "                  'Venue', \n",
    "                  'Venue Latitude', \n",
    "                  'Venue Longitude', \n",
    "                  'Venue Category']\n",
    "    \n",
    "    return(nearby_venues)"
   ]
  },
  {
   "cell_type": "code",
   "execution_count": 30,
   "metadata": {},
   "outputs": [
    {
     "name": "stdout",
     "output_type": "stream",
     "text": [
      "Rouge ,Malvern\n",
      "Highland Creek ,Rouge Hill ,Port Union\n",
      "Guildwood ,Morningside ,West Hill\n",
      "Woburn\n",
      "Cedarbrae\n",
      "Scarborough Village\n",
      "East Birchmount Park ,Ionview ,Kennedy Park\n",
      "Clairlea ,Golden Mile ,Oakridge\n",
      "Cliffcrest ,Cliffside ,Scarborough Village West\n",
      "Birch Cliff ,Cliffside West\n",
      "Dorset Park ,Scarborough Town Centre ,Wexford Heights\n",
      "Maryvale ,Wexford\n",
      "Agincourt\n",
      "Clarks Corners ,Sullivan ,Tam O'Shanter\n",
      "Agincourt North ,L'Amoreaux East ,Milliken ,Steeles East\n",
      "L'Amoreaux West\n",
      "Upper Rouge\n",
      "Hillcrest Village\n",
      "Fairview ,Henry Farm ,Oriole\n",
      "Bayview Village\n",
      "Silver Hills ,York Mills\n",
      "Newtonbrook ,Willowdale\n",
      "Willowdale South\n",
      "York Mills West\n",
      "Willowdale West\n",
      "Parkwoods\n",
      "Don Mills North\n",
      "Flemingdon Park ,Don Mills South\n",
      "Bathurst Manor ,Downsview North ,Wilson Heights\n",
      "Northwood Park ,York University\n",
      "CFB Toronto ,Downsview East\n",
      "Downsview West\n",
      "Downsview Central\n",
      "Downsview Northwest\n",
      "Victoria Village\n",
      "Woodbine Gardens ,Parkview Hill\n",
      "Woodbine Heights\n",
      "The Beaches\n",
      "Leaside\n",
      "Thorncliffe Park\n",
      "East Toronto\n",
      "The Danforth West ,Riverdale\n",
      "The Beaches West ,India Bazaar\n",
      "Studio District\n",
      "Lawrence Park\n",
      "Davisville North\n",
      "North Toronto West\n",
      "Davisville\n",
      "Moore Park ,Summerhill East\n",
      "Deer Park ,Forest Hill SE ,Rathnelly ,South Hill ,Summerhill West\n",
      "Rosedale\n",
      "Cabbagetown ,St. James Town\n",
      "Church and Wellesley\n",
      "Harbourfront\n",
      "Ryerson ,Garden District\n",
      "St. James Town\n",
      "Berczy Park\n",
      "Central Bay Street\n",
      "Adelaide ,King ,Richmond\n",
      "Harbourfront East ,Toronto Islands ,Union Station\n",
      "Design Exchange ,Toronto Dominion Centre\n",
      "Commerce Court ,Victoria Hotel\n",
      "Bedford Park ,Lawrence Manor East\n",
      "Roselawn\n",
      "Forest Hill North ,Forest Hill West\n",
      "The Annex ,North Midtown ,Yorkville\n",
      "Harbord ,University of Toronto\n",
      "Chinatown ,Grange Park ,Kensington Market\n",
      "CN Tower ,Bathurst Quay ,Island airport ,Harbourfront West ,King and Spadina ,Railway Lands ,South Niagara\n",
      "Stn A PO Boxes 25 The Esplanade\n",
      "First Canadian Place ,Underground city\n",
      "Lawrence Heights ,Lawrence Manor\n",
      "Glencairn\n",
      "Humewood-Cedarvale\n",
      "Caledonia-Fairbanks\n",
      "Christie\n",
      "Dovercourt Village ,Dufferin\n",
      "Little Portugal ,Trinity\n",
      "Brockton ,Exhibition Place ,Parkdale Village\n",
      "Downsview ,North Park ,Upwood Park\n",
      "Del Ray ,Keelesdale ,Mount Dennis ,Silverthorn\n",
      "The Junction North ,Runnymede\n",
      "High Park ,The Junction South\n",
      "Parkdale ,Roncesvalles\n",
      "Runnymede ,Swansea\n",
      "Queen's Park\n",
      "Canada Post Gateway Processing Centre\n",
      "Business Reply Mail Processing Centre 969 Eastern\n",
      "Humber Bay Shores ,Mimico South ,New Toronto\n",
      "Alderwood ,Long Branch\n",
      "The Kingsway ,Montgomery Road ,Old Mill North\n",
      "Humber Bay ,King's Mill Park ,Kingsway Park South East ,Mimico NE ,Old Mill South ,The Queensway East ,Royal York South East ,Sunnylea\n",
      "Kingsway Park South West ,Mimico NW ,The Queensway West ,Royal York South West ,South of Bloor\n",
      "Queen's Park\n",
      "Cloverdale ,Islington ,Martin Grove ,Princess Gardens ,West Deane Park\n",
      "Bloordale Gardens ,Eringate ,Markland Wood ,Old Burnhamthorpe\n",
      "Humber Summit\n",
      "Emery ,Humberlea\n",
      "Weston\n",
      "Westmount\n",
      "Kingsview Village ,Martin Grove Gardens ,Richview Gardens ,St. Phillips\n",
      "Albion Gardens ,Beaumond Heights ,Humbergate ,Jamestown ,Mount Olive ,Silverstone ,South Steeles ,Thistletown\n",
      "Northwest\n"
     ]
    }
   ],
   "source": [
    "toronto_venues = torontoVenues(names=neighborhoods['Neighbourhood'],\n",
    "                                   latitudes=neighborhoods['Latitude'],\n",
    "                                   longitudes=neighborhoods['Longitude'],\n",
    "                                  )"
   ]
  },
  {
   "cell_type": "code",
   "execution_count": 31,
   "metadata": {},
   "outputs": [
    {
     "data": {
      "text/html": [
       "<div>\n",
       "<style scoped>\n",
       "    .dataframe tbody tr th:only-of-type {\n",
       "        vertical-align: middle;\n",
       "    }\n",
       "\n",
       "    .dataframe tbody tr th {\n",
       "        vertical-align: top;\n",
       "    }\n",
       "\n",
       "    .dataframe thead th {\n",
       "        text-align: right;\n",
       "    }\n",
       "</style>\n",
       "<table border=\"1\" class=\"dataframe\">\n",
       "  <thead>\n",
       "    <tr style=\"text-align: right;\">\n",
       "      <th></th>\n",
       "      <th>Neighborhood</th>\n",
       "      <th>Neighborhood Latitude</th>\n",
       "      <th>Neighborhood Longitude</th>\n",
       "      <th>Venue</th>\n",
       "      <th>Venue Latitude</th>\n",
       "      <th>Venue Longitude</th>\n",
       "      <th>Venue Category</th>\n",
       "    </tr>\n",
       "  </thead>\n",
       "  <tbody>\n",
       "    <tr>\n",
       "      <td>0</td>\n",
       "      <td>Rouge ,Malvern</td>\n",
       "      <td>43.806686</td>\n",
       "      <td>-79.194353</td>\n",
       "      <td>Images Salon &amp; Spa</td>\n",
       "      <td>43.802283</td>\n",
       "      <td>-79.198565</td>\n",
       "      <td>Spa</td>\n",
       "    </tr>\n",
       "    <tr>\n",
       "      <td>1</td>\n",
       "      <td>Rouge ,Malvern</td>\n",
       "      <td>43.806686</td>\n",
       "      <td>-79.194353</td>\n",
       "      <td>Wendy's</td>\n",
       "      <td>43.802008</td>\n",
       "      <td>-79.198080</td>\n",
       "      <td>Fast Food Restaurant</td>\n",
       "    </tr>\n",
       "    <tr>\n",
       "      <td>2</td>\n",
       "      <td>Rouge ,Malvern</td>\n",
       "      <td>43.806686</td>\n",
       "      <td>-79.194353</td>\n",
       "      <td>Wendy's</td>\n",
       "      <td>43.807448</td>\n",
       "      <td>-79.199056</td>\n",
       "      <td>Fast Food Restaurant</td>\n",
       "    </tr>\n",
       "    <tr>\n",
       "      <td>3</td>\n",
       "      <td>Rouge ,Malvern</td>\n",
       "      <td>43.806686</td>\n",
       "      <td>-79.194353</td>\n",
       "      <td>Staples Morningside</td>\n",
       "      <td>43.800285</td>\n",
       "      <td>-79.196607</td>\n",
       "      <td>Paper / Office Supplies Store</td>\n",
       "    </tr>\n",
       "    <tr>\n",
       "      <td>4</td>\n",
       "      <td>Rouge ,Malvern</td>\n",
       "      <td>43.806686</td>\n",
       "      <td>-79.194353</td>\n",
       "      <td>Harvey's</td>\n",
       "      <td>43.800106</td>\n",
       "      <td>-79.198258</td>\n",
       "      <td>Fast Food Restaurant</td>\n",
       "    </tr>\n",
       "  </tbody>\n",
       "</table>\n",
       "</div>"
      ],
      "text/plain": [
       "     Neighborhood  Neighborhood Latitude  Neighborhood Longitude  \\\n",
       "0  Rouge ,Malvern              43.806686              -79.194353   \n",
       "1  Rouge ,Malvern              43.806686              -79.194353   \n",
       "2  Rouge ,Malvern              43.806686              -79.194353   \n",
       "3  Rouge ,Malvern              43.806686              -79.194353   \n",
       "4  Rouge ,Malvern              43.806686              -79.194353   \n",
       "\n",
       "                 Venue  Venue Latitude  Venue Longitude  \\\n",
       "0   Images Salon & Spa       43.802283       -79.198565   \n",
       "1              Wendy's       43.802008       -79.198080   \n",
       "2              Wendy's       43.807448       -79.199056   \n",
       "3  Staples Morningside       43.800285       -79.196607   \n",
       "4             Harvey's       43.800106       -79.198258   \n",
       "\n",
       "                  Venue Category  \n",
       "0                            Spa  \n",
       "1           Fast Food Restaurant  \n",
       "2           Fast Food Restaurant  \n",
       "3  Paper / Office Supplies Store  \n",
       "4           Fast Food Restaurant  "
      ]
     },
     "execution_count": 31,
     "metadata": {},
     "output_type": "execute_result"
    }
   ],
   "source": [
    "toronto_venues.head()"
   ]
  },
  {
   "cell_type": "code",
   "execution_count": null,
   "metadata": {},
   "outputs": [],
   "source": []
  }
 ],
 "metadata": {
  "kernelspec": {
   "display_name": "Python 3",
   "language": "python",
   "name": "python3"
  },
  "language_info": {
   "codemirror_mode": {
    "name": "ipython",
    "version": 3
   },
   "file_extension": ".py",
   "mimetype": "text/x-python",
   "name": "python",
   "nbconvert_exporter": "python",
   "pygments_lexer": "ipython3",
   "version": "3.7.4"
  }
 },
 "nbformat": 4,
 "nbformat_minor": 2
}
